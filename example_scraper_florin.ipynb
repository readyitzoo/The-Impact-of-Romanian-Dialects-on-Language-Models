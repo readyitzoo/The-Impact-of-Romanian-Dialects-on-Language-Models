{
 "cells": [
  {
   "cell_type": "code",
   "execution_count": 1,
   "metadata": {},
   "outputs": [],
   "source": [
    "import requests\n",
    "from bs4 import BeautifulSoup\n",
    "from tqdm import tqdm\n",
    "import pandas as pd\n",
    "import json\n",
    "from time import sleep"
   ]
  },
  {
   "cell_type": "code",
   "execution_count": 2,
   "metadata": {},
   "outputs": [],
   "source": [
    "newspaper_name = 'GazetaBT'\n",
    "\n",
    "headers = {'User-Agent': 'Mozilla/5.0 (Macintosh; Intel Mac OS X 10_10_1) AppleWebKit/537.36 (KHTML, like Gecko) Chrome/39.0.2171.95 Safari/537.36'}\n",
    "\n",
    "url_pages = 'https://www.gazetabt.ro/cat/local'\n",
    "\n",
    "# categs = ['cultural', 'ecologic', 'economic', 'interviu', 'social']\n",
    "\n",
    "num_arts = 300\n"
   ]
  },
  {
   "cell_type": "code",
   "execution_count": 3,
   "metadata": {},
   "outputs": [],
   "source": [
    "def get_all_articles(url: str, headers: dict) -> list:\n",
    "    response = requests.get(url, headers=headers)\n",
    "    soup = BeautifulSoup(response.text, 'html.parser')\n",
    "    # print(soup.prettify())\n",
    "    # Find <h2 class='post-title'><a href='URL'>TITLE</a></h2>\n",
    "    main_content = soup.find('div', class_='container-wrapper')\n",
    "    # print(main_content)\n",
    "    articles = main_content.find_all('h2', class_='post-title')\n",
    "    # print(articles[0])\n",
    "    \n",
    "    # result = []\n",
    "    # for article in articles:\n",
    "    #     category = article.find('span', class_='article-categories').find('a').get('href')\n",
    "    #     # print(category)\n",
    "    #     if category == allowed_categ:\n",
    "    #         result.append({'url': article.find('a').get('href'), 'title': article.find('a').get('title')})\n",
    "    \n",
    "    articles = [{'url': article.find('a').get('href'), 'title': article.find('a').text} for article in articles]\n",
    "    \n",
    "    return articles"
   ]
  },
  {
   "cell_type": "code",
   "execution_count": 4,
   "metadata": {},
   "outputs": [
    {
     "data": {
      "text/plain": [
       "[{'url': 'https://www.gazetabt.ro/un-nou-cod-galben-de-ceata-si-polei-in-judet-botosani/',\n",
       "  'title': 'Un nou Cod galben de ceață și polei în județ Botoșani'},\n",
       " {'url': 'https://www.gazetabt.ro/muzeul-judetean-botosani-participant-la-vernisajul-expozitiei-tehnici-traditionale-de-tesere-a-scoartelor-in-romania-si-republica-moldova/',\n",
       "  'title': 'Muzeul Județean Botoșani, participant la vernisajul expoziției „Tehnici tradiționale de țesere a scoarțelor în România și Republica Moldova”'},\n",
       " {'url': 'https://www.gazetabt.ro/elicopterul-smurd-chemat-la-botosani-pentru-a-prelua-un-barbat-in-stare-grava-14/',\n",
       "  'title': 'Elicopterul SMURD chemat la Botoșani pentru a prelua un bărbat în stare gravă'},\n",
       " {'url': 'https://www.gazetabt.ro/nova-apaserv-anunta-sistarea-apei-potabile-in-municipiul-botosani/',\n",
       "  'title': 'Nova Apaserv anunță sistarea apei potabile în municipiul Botoșani'},\n",
       " {'url': 'https://www.gazetabt.ro/singura-ferma-bio-de-gaini-ouatoare-din-regiunea-moldovei-la-botosani-investitie-europeana-de-26-milioane-de-euro-pentru-oua-ecologice-de-calitate-foto/',\n",
       "  'title': 'Singura fermă BIO de găini ouătoare din Regiunea Moldovei, la Botoșani: investiție europeană de 2,6 milioane de euro pentru ouă ecologice de calitate – FOTO'},\n",
       " {'url': 'https://www.gazetabt.ro/schimbare-de-program-la-teatrul-vasilache-spectacolul-frumoasa-si-bestia-amanat/',\n",
       "  'title': 'Schimbare de program la Teatrul „Vasilache”: Spectacolul „Frumoasa și Bestia” amânat'},\n",
       " {'url': 'https://www.gazetabt.ro/vernisajul-expozitiei-obiceiuri-si-traditii-de-iarna-la-botosani-o-calatorie-vizuala-in-lumea-obiceiurilor-de-sezon-foto/',\n",
       "  'title': 'Vernisajul Expoziției „Obiceiuri și Tradiții de Iarnă” la Botoșani: O călătorie vizuală în lumea obiceiurilor de sezon – FOTO'},\n",
       " {'url': 'https://www.gazetabt.ro/muzeul-judetean-botosani-gazduieste-editia-a-ii-a-a-bienalei-nationale-de-pictura-si-grafica-stefan-luchian/',\n",
       "  'title': 'Muzeul Județean Botoșani găzduiește ediția a II-a a Bienalei Naționale de Pictură și Grafică „Ștefan Luchian”'},\n",
       " {'url': 'https://www.gazetabt.ro/urmarire-in-trafic-pe-strazile-din-saveni-tanarul-de-la-volan-s-a-ales-cu-dosar-penal/',\n",
       "  'title': 'Urmărire în trafic pe străzile din Săveni. Tânărul de la volan a ajuns în arestul Poliției'},\n",
       " {'url': 'https://www.gazetabt.ro/sofer-baut-scos-din-trafic-de-politisti-14/',\n",
       "  'title': 'Șofer băut, scos din trafic de polițiști'},\n",
       " {'url': 'https://www.gazetabt.ro/actiune-pentru-prevenirea-accidentelor-rutiere-care-au-drept-cauza-generatoare-consumul-de-alcool/',\n",
       "  'title': 'Acțiune pentru prevenirea accidentelor rutiere care au drept cauză generatoare consumul de alcool'},\n",
       " {'url': 'https://www.gazetabt.ro/sofer-din-botosani-sanctionat-de-politisti-pentru-transport-ilegal-de-persoane/',\n",
       "  'title': 'Șofer din Botoșani, sancționat de polițiști pentru transport ilegal de persoane'},\n",
       " {'url': 'https://www.gazetabt.ro/botosanean-cercetat-penal-dupa-ce-a-fost-oprit-in-trafic-de-politisti-11/',\n",
       "  'title': 'Botoșănean cercetat penal după ce a fost oprit în trafic de polițiști'},\n",
       " {'url': 'https://www.gazetabt.ro/o-noua-avarie-la-reteaua-de-apa-nova-apaserv-a-intrerupt-furnizarea-apei-in-mai-multe-localitati-2/',\n",
       "  'title': 'O nouă avarie la rețeaua de apă! Nova Apaserv a întrerupt furnizarea apei în mai multe localități'},\n",
       " {'url': 'https://www.gazetabt.ro/casa-mistuita-de-flacari-la-bucecea-o-familie-cu-11-copii-a-ramas-fara-acoperis-deasupra-capului-foto/',\n",
       "  'title': 'Casă mistuită de flăcări la Bucecea. O familie cu 11 copii a rămas fără acoperiș deasupra capului – FOTO'},\n",
       " {'url': 'https://www.gazetabt.ro/un-barbat-din-botosani-a-fost-dat-disparut-de-familie-daca-l-ati-vazut-pe-andrei-sunati-la-112/',\n",
       "  'title': 'Un bărbat din Botoșani a fost dat dispărut de familie. Dacă l-ați văzut pe Andrei, sunați la 112'},\n",
       " {'url': 'https://www.gazetabt.ro/primaria-botosani-investeste-in-locuinte-eficiente-energetic-si-infrastructura-moderna-pe-amplasamentul-fostului-obor-foto/',\n",
       "  'title': 'Primăria Botoșani investește în locuințe eficiente energetic și infrastructură modernă pe amplasamentul fostului Obor – FOTO'},\n",
       " {'url': 'https://www.gazetabt.ro/agentia-pentru-protectia-mediului-botosani-sarbatoreste-ziua-mondiala-a-zonelor-umede-2/',\n",
       "  'title': 'Agenția pentru Protecția Mediului Botoșani sărbătorește Ziua Mondială a Zonelor Umede'},\n",
       " {'url': 'https://www.gazetabt.ro/trupa-mare-a-scolii-populare-de-arte-din-botosani-aduce-magia-talentului-pe-scena-romanii-au-talent/',\n",
       "  'title': 'Trupa Mare a Școlii Populare de Arte din Botoșani aduce magia talentului pe scena Românii au talent!'},\n",
       " {'url': 'https://www.gazetabt.ro/doua-spectacole-in-acest-weekend-la-teatrul-mihai-eminescu-4/',\n",
       "  'title': 'Două spectacole în acest weekend la Teatrul „Mihai Eminescu”'},\n",
       " {'url': 'https://www.gazetabt.ro/lacul-stanca-costesti-o-comoara-ecologica-si-stiintifica-in-nord-estul-moldovei/',\n",
       "  'title': 'Lacul Stânca – Costești: O comoară ecologică și științifică în Nord-Estul Moldovei'},\n",
       " {'url': 'https://www.gazetabt.ro/barbat-din-vorona-condamnat-la-15-ani-de-inchisoare-pentru-omor-dupa-ce-a-incercat-sa-si-omoare-concubina-prin-incendiere/',\n",
       "  'title': 'Bărbat din Vorona condamnat la 15 ani de închisoare pentru omor, după ce a încercat să-și omoare concubina prin incendiere'},\n",
       " {'url': 'https://www.gazetabt.ro/tanar-din-hudesti-condamnat-la-inchisoare-pentru-conducerea-unui-vehicul-cu-numar-fals-de-inmatriculare-retinut-de-politisti/',\n",
       "  'title': 'Tânăr din Hudești, condamnat la închisoare pentru conducerea unui vehicul cu număr fals de înmatriculare, reținut de polițiști'},\n",
       " {'url': 'https://www.gazetabt.ro/apia-botosani-a-autorizat-plati-finale-de-peste-8-milioane-de-euro-pentru-fermieri/',\n",
       "  'title': 'APIA Botoșani a autorizat plăți finale de peste 8 milioane de euro pentru fermieri'},\n",
       " {'url': 'https://www.gazetabt.ro/actiune-a-politisilor-pentru-prevenirea-accidentelor-in-judetul-botosani-70-de-soferi-sanctionati-pentru-abateri-rutiere/',\n",
       "  'title': 'Acțiune a polițișilor pentru prevenirea accidentelor în județul Botoșani. 70 de șoferi sancționați pentru abateri rutiere'},\n",
       " {'url': 'https://www.gazetabt.ro/depasire-neregulamentara-efectuata-la-limita-de-un-sofer-pe-dn-28b-a-fost-amendat-si-lasat-fara-permis-video/',\n",
       "  'title': 'Depășire neregulamentară efectuată, la limită, de un șofer pe DN 28B! A fost amendat și lăsat fără permis – VIDEO'},\n",
       " {'url': 'https://www.gazetabt.ro/alerta-alimentara-branza-contaminata-cu-e-coli-retrasa-din-magazine/',\n",
       "  'title': 'Alertă alimentară! Brânză contaminată cu e-coli, retrasă din magazine'},\n",
       " {'url': 'https://www.gazetabt.ro/concurentii-admisi-la-preselectia-martisor-dorohoian-2025/',\n",
       "  'title': 'Concurenții admiși la preselecția „Mărțișor dorohoian” 2025'},\n",
       " {'url': 'https://www.gazetabt.ro/cod-galben-de-ceata-si-polei-pentru-judetul-botosani-7/',\n",
       "  'title': 'Cod galben de ceață și polei pentru județul Botoșani'},\n",
       " {'url': 'https://www.gazetabt.ro/440-rata-somajului-inregistrat-in-evidentele-ajofm-botosani-in-luna-decembrie-2024/',\n",
       "  'title': '4,40% –  rata şomajului înregistrat în evidenţele AJOFM  Botoșani în luna decembrie 2024'}]"
      ]
     },
     "execution_count": 4,
     "metadata": {},
     "output_type": "execute_result"
    }
   ],
   "source": [
    "get_all_articles(url_pages + '/page/2', headers)"
   ]
  },
  {
   "cell_type": "code",
   "execution_count": 5,
   "metadata": {},
   "outputs": [
    {
     "name": "stdout",
     "output_type": "stream",
     "text": [
      "30\n",
      "60\n",
      "90\n",
      "120\n",
      "150\n",
      "180\n",
      "210\n",
      "240\n",
      "270\n",
      "300\n"
     ]
    }
   ],
   "source": [
    "all_articles = []\n",
    "\n",
    "i = 1\n",
    "# allowed_zeros = 10\n",
    "while True:\n",
    "    url = url_pages + '/page/' + str(i)\n",
    "    \n",
    "    new_arts = get_all_articles(url, headers)\n",
    "    if len(new_arts) == 0:\n",
    "        break\n",
    "    all_articles.extend(new_arts)\n",
    "    # sleep(0.5)\n",
    "    \n",
    "    print(str(len(all_articles)))\n",
    "    if len(all_articles) >= num_arts:\n",
    "        break\n",
    "    \n",
    "    i += 1\n",
    "    "
   ]
  },
  {
   "cell_type": "code",
   "execution_count": 6,
   "metadata": {},
   "outputs": [],
   "source": [
    "with open('urls.txt', 'w') as f:\n",
    "    json.dump(all_articles, f, indent=4)"
   ]
  },
  {
   "cell_type": "code",
   "execution_count": 7,
   "metadata": {},
   "outputs": [],
   "source": [
    "def get_article_contents(url: str, headers: dict) -> str:\n",
    "    response = requests.get(url, headers=headers)\n",
    "    soup = BeautifulSoup(response.text, 'html.parser')\n",
    "    \n",
    "    return soup.prettify()"
   ]
  },
  {
   "cell_type": "code",
   "execution_count": 8,
   "metadata": {},
   "outputs": [
    {
     "name": "stderr",
     "output_type": "stream",
     "text": [
      "100%|██████████| 300/300 [10:29<00:00,  2.10s/it]\n"
     ]
    }
   ],
   "source": [
    "for i in tqdm(range(len(all_articles))):\n",
    "    all_articles[i]['content'] = get_article_contents(all_articles[i]['url'], headers)"
   ]
  },
  {
   "cell_type": "code",
   "execution_count": 9,
   "metadata": {},
   "outputs": [
    {
     "name": "stderr",
     "output_type": "stream",
     "text": [
      "100%|██████████| 300/300 [00:00<00:00, 1102.31it/s]\n"
     ]
    }
   ],
   "source": [
    "for i in tqdm(range(len(all_articles))):\n",
    "    with open(f'articles/{newspaper_name}_{\"%04d\" % i}.html', 'w') as f:\n",
    "        f.write(all_articles[i]['content'])\n",
    "    with open(f'titles/{newspaper_name}_{\"%04d\"% i}.txt', 'w') as f:\n",
    "        f.write(all_articles[i]['title'])\n",
    "    with open(f'urls/{newspaper_name}_{\"%04d\"% i}.txt', 'w') as f:\n",
    "        f.write(all_articles[i]['url'])"
   ]
  }
 ],
 "metadata": {
  "kernelspec": {
   "display_name": "venv",
   "language": "python",
   "name": "python3"
  },
  "language_info": {
   "codemirror_mode": {
    "name": "ipython",
    "version": 3
   },
   "file_extension": ".py",
   "mimetype": "text/x-python",
   "name": "python",
   "nbconvert_exporter": "python",
   "pygments_lexer": "ipython3",
   "version": "3.10.12"
  }
 },
 "nbformat": 4,
 "nbformat_minor": 2
}
